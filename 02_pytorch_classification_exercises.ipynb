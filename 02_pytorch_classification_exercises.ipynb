{
  "nbformat": 4,
  "nbformat_minor": 0,
  "metadata": {
    "colab": {
      "name": "02_pytorch_classification_exercises.ipynb",
      "provenance": [],
      "gpuType": "T4",
      "include_colab_link": true
    },
    "kernelspec": {
      "name": "python3",
      "display_name": "Python 3"
    },
    "language_info": {
      "name": "python"
    },
    "accelerator": "GPU"
  },
  "cells": [
    {
      "cell_type": "markdown",
      "metadata": {
        "id": "view-in-github",
        "colab_type": "text"
      },
      "source": [
        "<a href=\"https://colab.research.google.com/github/Undertaker-86/deep_learning/blob/main/02_pytorch_classification_exercises.ipynb\" target=\"_parent\"><img src=\"https://colab.research.google.com/assets/colab-badge.svg\" alt=\"Open In Colab\"/></a>"
      ]
    },
    {
      "cell_type": "markdown",
      "source": [
        "# 02. PyTorch Classification Exercises\n",
        "\n",
        "The following is a template for 02. PyTorch Classification exercises.\n",
        "\n",
        "It's only starter code and it's your job to fill in the blanks.\n",
        "\n",
        "Because of the flexibility of PyTorch, there may be more than one way to answer the question.\n",
        "\n",
        "Don't worry about trying to be *right* just try writing code that suffices the question.\n",
        "\n",
        "## Resources\n",
        "* These exercises are based on [notebook 02 of the learn PyTorch course](https://www.learnpytorch.io/02_pytorch_classification/).\n",
        "* You can see one form of [solutions on GitHub](https://github.com/mrdbourke/pytorch-deep-learning/tree/main/extras/solutions) (but try the exercises below yourself first!)."
      ],
      "metadata": {
        "id": "ZKJFt7YxH8yl"
      }
    },
    {
      "cell_type": "code",
      "source": [
        "# Import torch\n",
        "import torch\n",
        "\n",
        "# Setup device agnostic code\n",
        "device = \"cuda\" if torch.cuda.is_available() else \"cpu\"\n",
        "print(f\"Using device: {device}\")\n",
        "\n",
        "# Setup random seed\n",
        "RANDOM_SEED = 42"
      ],
      "metadata": {
        "id": "CSrUPgapO0tf",
        "colab": {
          "base_uri": "https://localhost:8080/"
        },
        "outputId": "d5424953-2b77-41db-918a-d9bf094449e8"
      },
      "execution_count": 2,
      "outputs": [
        {
          "output_type": "stream",
          "name": "stdout",
          "text": [
            "Using device: cuda\n"
          ]
        }
      ]
    },
    {
      "cell_type": "markdown",
      "source": [
        "## 1. Make a binary classification dataset with Scikit-Learn's [`make_moons()`](https://scikit-learn.org/stable/modules/generated/sklearn.datasets.make_moons.html) function.\n",
        "  * For consistency, the dataset should have 1000 samples and a `random_state=42`.\n",
        "  * Turn the data into PyTorch tensors.\n",
        "  * Split the data into training and test sets using `train_test_split` with 80% training and 20% testing."
      ],
      "metadata": {
        "id": "pH7jIZ2SPFee"
      }
    },
    {
      "cell_type": "code",
      "source": [
        "# Create a dataset with Scikit-Learn's make_moons()\n",
        "from sklearn.datasets import make_moons\n",
        "X, y = make_moons(n_samples=1000, random_state=42, noise=0.03)\n",
        "X.shape, y.shape"
      ],
      "metadata": {
        "id": "5t4VhPV1PX1X",
        "colab": {
          "base_uri": "https://localhost:8080/"
        },
        "outputId": "e468a781-343a-4af1-f55d-3833e8ed4890"
      },
      "execution_count": 4,
      "outputs": [
        {
          "output_type": "execute_result",
          "data": {
            "text/plain": [
              "((1000, 2), (1000,))"
            ]
          },
          "metadata": {},
          "execution_count": 4
        }
      ]
    },
    {
      "cell_type": "code",
      "source": [
        "# Turn data into a DataFrame\n",
        "\n",
        "import pandas as pd\n",
        "df = pd.DataFrame({\"x1\":X[:, 0], \"x2\":X[:, 1], \"y\":y})\n",
        "df.head()"
      ],
      "metadata": {
        "id": "SUeHZ3-3P9C7",
        "colab": {
          "base_uri": "https://localhost:8080/",
          "height": 206
        },
        "outputId": "2f44c74b-ebea-4f1a-e4d4-bd2b3dc683d7"
      },
      "execution_count": 5,
      "outputs": [
        {
          "output_type": "execute_result",
          "data": {
            "text/plain": [
              "         x1        x2  y\n",
              "0  0.008727  0.368174  1\n",
              "1  0.921384 -0.496905  1\n",
              "2  0.940226 -0.498212  1\n",
              "3  0.465875 -0.345406  1\n",
              "4 -0.850412  0.526117  0"
            ],
            "text/html": [
              "\n",
              "  <div id=\"df-0e875757-ab23-4039-87b0-623f619bb1af\" class=\"colab-df-container\">\n",
              "    <div>\n",
              "<style scoped>\n",
              "    .dataframe tbody tr th:only-of-type {\n",
              "        vertical-align: middle;\n",
              "    }\n",
              "\n",
              "    .dataframe tbody tr th {\n",
              "        vertical-align: top;\n",
              "    }\n",
              "\n",
              "    .dataframe thead th {\n",
              "        text-align: right;\n",
              "    }\n",
              "</style>\n",
              "<table border=\"1\" class=\"dataframe\">\n",
              "  <thead>\n",
              "    <tr style=\"text-align: right;\">\n",
              "      <th></th>\n",
              "      <th>x1</th>\n",
              "      <th>x2</th>\n",
              "      <th>y</th>\n",
              "    </tr>\n",
              "  </thead>\n",
              "  <tbody>\n",
              "    <tr>\n",
              "      <th>0</th>\n",
              "      <td>0.008727</td>\n",
              "      <td>0.368174</td>\n",
              "      <td>1</td>\n",
              "    </tr>\n",
              "    <tr>\n",
              "      <th>1</th>\n",
              "      <td>0.921384</td>\n",
              "      <td>-0.496905</td>\n",
              "      <td>1</td>\n",
              "    </tr>\n",
              "    <tr>\n",
              "      <th>2</th>\n",
              "      <td>0.940226</td>\n",
              "      <td>-0.498212</td>\n",
              "      <td>1</td>\n",
              "    </tr>\n",
              "    <tr>\n",
              "      <th>3</th>\n",
              "      <td>0.465875</td>\n",
              "      <td>-0.345406</td>\n",
              "      <td>1</td>\n",
              "    </tr>\n",
              "    <tr>\n",
              "      <th>4</th>\n",
              "      <td>-0.850412</td>\n",
              "      <td>0.526117</td>\n",
              "      <td>0</td>\n",
              "    </tr>\n",
              "  </tbody>\n",
              "</table>\n",
              "</div>\n",
              "    <div class=\"colab-df-buttons\">\n",
              "\n",
              "  <div class=\"colab-df-container\">\n",
              "    <button class=\"colab-df-convert\" onclick=\"convertToInteractive('df-0e875757-ab23-4039-87b0-623f619bb1af')\"\n",
              "            title=\"Convert this dataframe to an interactive table.\"\n",
              "            style=\"display:none;\">\n",
              "\n",
              "  <svg xmlns=\"http://www.w3.org/2000/svg\" height=\"24px\" viewBox=\"0 -960 960 960\">\n",
              "    <path d=\"M120-120v-720h720v720H120Zm60-500h600v-160H180v160Zm220 220h160v-160H400v160Zm0 220h160v-160H400v160ZM180-400h160v-160H180v160Zm440 0h160v-160H620v160ZM180-180h160v-160H180v160Zm440 0h160v-160H620v160Z\"/>\n",
              "  </svg>\n",
              "    </button>\n",
              "\n",
              "  <style>\n",
              "    .colab-df-container {\n",
              "      display:flex;\n",
              "      gap: 12px;\n",
              "    }\n",
              "\n",
              "    .colab-df-convert {\n",
              "      background-color: #E8F0FE;\n",
              "      border: none;\n",
              "      border-radius: 50%;\n",
              "      cursor: pointer;\n",
              "      display: none;\n",
              "      fill: #1967D2;\n",
              "      height: 32px;\n",
              "      padding: 0 0 0 0;\n",
              "      width: 32px;\n",
              "    }\n",
              "\n",
              "    .colab-df-convert:hover {\n",
              "      background-color: #E2EBFA;\n",
              "      box-shadow: 0px 1px 2px rgba(60, 64, 67, 0.3), 0px 1px 3px 1px rgba(60, 64, 67, 0.15);\n",
              "      fill: #174EA6;\n",
              "    }\n",
              "\n",
              "    .colab-df-buttons div {\n",
              "      margin-bottom: 4px;\n",
              "    }\n",
              "\n",
              "    [theme=dark] .colab-df-convert {\n",
              "      background-color: #3B4455;\n",
              "      fill: #D2E3FC;\n",
              "    }\n",
              "\n",
              "    [theme=dark] .colab-df-convert:hover {\n",
              "      background-color: #434B5C;\n",
              "      box-shadow: 0px 1px 3px 1px rgba(0, 0, 0, 0.15);\n",
              "      filter: drop-shadow(0px 1px 2px rgba(0, 0, 0, 0.3));\n",
              "      fill: #FFFFFF;\n",
              "    }\n",
              "  </style>\n",
              "\n",
              "    <script>\n",
              "      const buttonEl =\n",
              "        document.querySelector('#df-0e875757-ab23-4039-87b0-623f619bb1af button.colab-df-convert');\n",
              "      buttonEl.style.display =\n",
              "        google.colab.kernel.accessAllowed ? 'block' : 'none';\n",
              "\n",
              "      async function convertToInteractive(key) {\n",
              "        const element = document.querySelector('#df-0e875757-ab23-4039-87b0-623f619bb1af');\n",
              "        const dataTable =\n",
              "          await google.colab.kernel.invokeFunction('convertToInteractive',\n",
              "                                                    [key], {});\n",
              "        if (!dataTable) return;\n",
              "\n",
              "        const docLinkHtml = 'Like what you see? Visit the ' +\n",
              "          '<a target=\"_blank\" href=https://colab.research.google.com/notebooks/data_table.ipynb>data table notebook</a>'\n",
              "          + ' to learn more about interactive tables.';\n",
              "        element.innerHTML = '';\n",
              "        dataTable['output_type'] = 'display_data';\n",
              "        await google.colab.output.renderOutput(dataTable, element);\n",
              "        const docLink = document.createElement('div');\n",
              "        docLink.innerHTML = docLinkHtml;\n",
              "        element.appendChild(docLink);\n",
              "      }\n",
              "    </script>\n",
              "  </div>\n",
              "\n",
              "\n",
              "    <div id=\"df-a75ee9ae-7349-4ca0-987f-cecae7ff787b\">\n",
              "      <button class=\"colab-df-quickchart\" onclick=\"quickchart('df-a75ee9ae-7349-4ca0-987f-cecae7ff787b')\"\n",
              "                title=\"Suggest charts\"\n",
              "                style=\"display:none;\">\n",
              "\n",
              "<svg xmlns=\"http://www.w3.org/2000/svg\" height=\"24px\"viewBox=\"0 0 24 24\"\n",
              "     width=\"24px\">\n",
              "    <g>\n",
              "        <path d=\"M19 3H5c-1.1 0-2 .9-2 2v14c0 1.1.9 2 2 2h14c1.1 0 2-.9 2-2V5c0-1.1-.9-2-2-2zM9 17H7v-7h2v7zm4 0h-2V7h2v10zm4 0h-2v-4h2v4z\"/>\n",
              "    </g>\n",
              "</svg>\n",
              "      </button>\n",
              "\n",
              "<style>\n",
              "  .colab-df-quickchart {\n",
              "      --bg-color: #E8F0FE;\n",
              "      --fill-color: #1967D2;\n",
              "      --hover-bg-color: #E2EBFA;\n",
              "      --hover-fill-color: #174EA6;\n",
              "      --disabled-fill-color: #AAA;\n",
              "      --disabled-bg-color: #DDD;\n",
              "  }\n",
              "\n",
              "  [theme=dark] .colab-df-quickchart {\n",
              "      --bg-color: #3B4455;\n",
              "      --fill-color: #D2E3FC;\n",
              "      --hover-bg-color: #434B5C;\n",
              "      --hover-fill-color: #FFFFFF;\n",
              "      --disabled-bg-color: #3B4455;\n",
              "      --disabled-fill-color: #666;\n",
              "  }\n",
              "\n",
              "  .colab-df-quickchart {\n",
              "    background-color: var(--bg-color);\n",
              "    border: none;\n",
              "    border-radius: 50%;\n",
              "    cursor: pointer;\n",
              "    display: none;\n",
              "    fill: var(--fill-color);\n",
              "    height: 32px;\n",
              "    padding: 0;\n",
              "    width: 32px;\n",
              "  }\n",
              "\n",
              "  .colab-df-quickchart:hover {\n",
              "    background-color: var(--hover-bg-color);\n",
              "    box-shadow: 0 1px 2px rgba(60, 64, 67, 0.3), 0 1px 3px 1px rgba(60, 64, 67, 0.15);\n",
              "    fill: var(--button-hover-fill-color);\n",
              "  }\n",
              "\n",
              "  .colab-df-quickchart-complete:disabled,\n",
              "  .colab-df-quickchart-complete:disabled:hover {\n",
              "    background-color: var(--disabled-bg-color);\n",
              "    fill: var(--disabled-fill-color);\n",
              "    box-shadow: none;\n",
              "  }\n",
              "\n",
              "  .colab-df-spinner {\n",
              "    border: 2px solid var(--fill-color);\n",
              "    border-color: transparent;\n",
              "    border-bottom-color: var(--fill-color);\n",
              "    animation:\n",
              "      spin 1s steps(1) infinite;\n",
              "  }\n",
              "\n",
              "  @keyframes spin {\n",
              "    0% {\n",
              "      border-color: transparent;\n",
              "      border-bottom-color: var(--fill-color);\n",
              "      border-left-color: var(--fill-color);\n",
              "    }\n",
              "    20% {\n",
              "      border-color: transparent;\n",
              "      border-left-color: var(--fill-color);\n",
              "      border-top-color: var(--fill-color);\n",
              "    }\n",
              "    30% {\n",
              "      border-color: transparent;\n",
              "      border-left-color: var(--fill-color);\n",
              "      border-top-color: var(--fill-color);\n",
              "      border-right-color: var(--fill-color);\n",
              "    }\n",
              "    40% {\n",
              "      border-color: transparent;\n",
              "      border-right-color: var(--fill-color);\n",
              "      border-top-color: var(--fill-color);\n",
              "    }\n",
              "    60% {\n",
              "      border-color: transparent;\n",
              "      border-right-color: var(--fill-color);\n",
              "    }\n",
              "    80% {\n",
              "      border-color: transparent;\n",
              "      border-right-color: var(--fill-color);\n",
              "      border-bottom-color: var(--fill-color);\n",
              "    }\n",
              "    90% {\n",
              "      border-color: transparent;\n",
              "      border-bottom-color: var(--fill-color);\n",
              "    }\n",
              "  }\n",
              "</style>\n",
              "\n",
              "      <script>\n",
              "        async function quickchart(key) {\n",
              "          const quickchartButtonEl =\n",
              "            document.querySelector('#' + key + ' button');\n",
              "          quickchartButtonEl.disabled = true;  // To prevent multiple clicks.\n",
              "          quickchartButtonEl.classList.add('colab-df-spinner');\n",
              "          try {\n",
              "            const charts = await google.colab.kernel.invokeFunction(\n",
              "                'suggestCharts', [key], {});\n",
              "          } catch (error) {\n",
              "            console.error('Error during call to suggestCharts:', error);\n",
              "          }\n",
              "          quickchartButtonEl.classList.remove('colab-df-spinner');\n",
              "          quickchartButtonEl.classList.add('colab-df-quickchart-complete');\n",
              "        }\n",
              "        (() => {\n",
              "          let quickchartButtonEl =\n",
              "            document.querySelector('#df-a75ee9ae-7349-4ca0-987f-cecae7ff787b button');\n",
              "          quickchartButtonEl.style.display =\n",
              "            google.colab.kernel.accessAllowed ? 'block' : 'none';\n",
              "        })();\n",
              "      </script>\n",
              "    </div>\n",
              "\n",
              "    </div>\n",
              "  </div>\n"
            ],
            "application/vnd.google.colaboratory.intrinsic+json": {
              "type": "dataframe",
              "variable_name": "df",
              "summary": "{\n  \"name\": \"df\",\n  \"rows\": 1000,\n  \"fields\": [\n    {\n      \"column\": \"x1\",\n      \"properties\": {\n        \"dtype\": \"number\",\n        \"std\": 0.8670361882596087,\n        \"min\": -1.0,\n        \"max\": 2.0,\n        \"num_unique_values\": 1000,\n        \"samples\": [\n          0.4981836681233165,\n          0.6879358381940102,\n          1.2155004589628617\n        ],\n        \"semantic_type\": \"\",\n        \"description\": \"\"\n      }\n    },\n    {\n      \"column\": \"x2\",\n      \"properties\": {\n        \"dtype\": \"number\",\n        \"std\": 0.49403628888994966,\n        \"min\": -0.4999950454033061,\n        \"max\": 0.9999950454033061,\n        \"num_unique_values\": 916,\n        \"samples\": [\n          0.6287494019594928,\n          0.1505243501340137,\n          0.1753701695422144\n        ],\n        \"semantic_type\": \"\",\n        \"description\": \"\"\n      }\n    },\n    {\n      \"column\": \"y\",\n      \"properties\": {\n        \"dtype\": \"number\",\n        \"std\": 0,\n        \"min\": 0,\n        \"max\": 1,\n        \"num_unique_values\": 2,\n        \"samples\": [\n          0,\n          1\n        ],\n        \"semantic_type\": \"\",\n        \"description\": \"\"\n      }\n    }\n  ]\n}"
            }
          },
          "metadata": {},
          "execution_count": 5
        }
      ]
    },
    {
      "cell_type": "code",
      "source": [
        "# Visualize the data on a scatter plot\n",
        "import matplotlib.pyplot as plt\n",
        "plt.scatter(df[\"x1\"], df[\"x2\"], c=df[\"y\"], alpha=0.3)\n",
        "plt.title(\"Make moons dataset\")\n",
        "plt.colorbar()\n",
        "plt.show()"
      ],
      "metadata": {
        "id": "owrkPSFvQPFI",
        "colab": {
          "base_uri": "https://localhost:8080/",
          "height": 452
        },
        "outputId": "a2081bb6-6772-448b-fb54-8ba98c8be89d"
      },
      "execution_count": 7,
      "outputs": [
        {
          "output_type": "display_data",
          "data": {
            "text/plain": [
              "<Figure size 640x480 with 2 Axes>"
            ],
            "image/png": "[encoded data removed]"
          },
          "metadata": {}
        }
      ]
    },
    {
      "cell_type": "code",
      "source": [
        "# Turn data into tensors of dtype float\n",
        "X_tensor = torch.tensor(X, dtype=torch.float)\n",
        "y_tensor = torch.tensor(y, dtype=torch.float)\n",
        "display(X_tensor[:10, :], y_tensor[:10])\n",
        "\n",
        "\n",
        "# Split the data into train and test sets (80% train, 20% test)\n",
        "from sklearn.model_selection import train_test_split\n",
        "x_train, x_test, y_train, y_test = train_test_split(X_tensor, y_tensor, test_size=0.2, random_state=42)\n",
        "len(x_train), len(x_test)"
      ],
      "metadata": {
        "id": "bDhyHn9fR4dq",
        "colab": {
          "base_uri": "https://localhost:8080/",
          "height": 225
        },
        "outputId": "eeb19018-391b-43b5-c86c-3098d458bd17"
      },
      "execution_count": 12,
      "outputs": [
        {
          "output_type": "display_data",
          "data": {
            "text/plain": [
              "tensor([[ 0.0087,  0.3682],\n",
              "        [ 0.9214, -0.4969],\n",
              "        [ 0.9402, -0.4982],\n",
              "        [ 0.4659, -0.3454],\n",
              "        [-0.8504,  0.5261],\n",
              "        [ 0.5649, -0.4004],\n",
              "        [ 0.2985, -0.2126],\n",
              "        [ 0.0033,  0.4182],\n",
              "        [ 1.6361, -0.2716],\n",
              "        [ 0.6553,  0.7554]])"
            ]
          },
          "metadata": {}
        },
        {
          "output_type": "display_data",
          "data": {
            "text/plain": [
              "tensor([1., 1., 1., 1., 0., 1., 1., 1., 1., 0.])"
            ]
          },
          "metadata": {}
        },
        {
          "output_type": "execute_result",
          "data": {
            "text/plain": [
              "(800, 200)"
            ]
          },
          "metadata": {},
          "execution_count": 12
        }
      ]
    },
    {
      "cell_type": "markdown",
      "source": [
        "## 2. Build a model by subclassing `nn.Module` that incorporates non-linear activation functions and is capable of fitting the data you created in 1.\n",
        "  * Feel free to use any combination of PyTorch layers (linear and non-linear) you want."
      ],
      "metadata": {
        "id": "cMIjxZdzQfPz"
      }
    },
    {
      "cell_type": "code",
      "source": [
        "import torch\n",
        "from torch import nn\n",
        "# Inherit from nn.Module to make a model capable of fitting the mooon data\n",
        "class MoonClassifier0(nn.Module):\n",
        "    def __init__(self, in_num=16, out_num=16):\n",
        "        super().__init__()\n",
        "        self.in_num = in_num\n",
        "        self.out_num = out_num\n",
        "        self.layer_stack = nn.Sequential(nn.Linear(in_features=self.in_num, out_features=self.out_num),\n",
        "                      nn.ReLU(),\n",
        "                      nn.Linear(self.out_num, self.out_num),\n",
        "                      nn.ReLU(),\n",
        "                      nn.Linear(self.out_num, 1))\n",
        "    def forward(self, x):\n",
        "        return self.layer_stack(x)\n",
        "\n",
        "# Instantiate the model\n",
        "## Your code here ##\n",
        "torch.manual_seed(42)\n",
        "moon_clf = MoonClassifier0(in_num=2)\n",
        "moon_clf.state_dict()"
      ],
      "metadata": {
        "id": "hwtyvm34Ri6Q",
        "colab": {
          "base_uri": "https://localhost:8080/"
        },
        "outputId": "a73f2f16-137e-435c-f133-bbffaa21d2e7"
      },
      "execution_count": 45,
      "outputs": [
        {
          "output_type": "execute_result",
          "data": {
            "text/plain": [
              "OrderedDict([('layer_stack.0.weight',\n",
              "              tensor([[ 0.5406,  0.5869],\n",
              "                      [-0.1657,  0.6496],\n",
              "                      [-0.1549,  0.1427],\n",
              "                      [-0.3443,  0.4153],\n",
              "                      [ 0.6233, -0.5188],\n",
              "                      [ 0.6146,  0.1323],\n",
              "                      [ 0.5224,  0.0958],\n",
              "                      [ 0.3410, -0.0998],\n",
              "                      [ 0.5451,  0.1045],\n",
              "                      [-0.3301,  0.1802],\n",
              "                      [-0.3258, -0.0829],\n",
              "                      [-0.2872,  0.4691],\n",
              "                      [-0.5582, -0.3260],\n",
              "                      [-0.1997, -0.4252],\n",
              "                      [ 0.0667, -0.6984],\n",
              "                      [ 0.6386, -0.6007]])),\n",
              "             ('layer_stack.0.bias',\n",
              "              tensor([ 0.5459,  0.1177, -0.2296,  0.4370,  0.1102,  0.5713,  0.0773, -0.2230,\n",
              "                       0.1900, -0.1918,  0.2976,  0.6313,  0.4087, -0.3091,  0.4082,  0.1265])),\n",
              "             ('layer_stack.2.weight',\n",
              "              tensor([[ 0.1270, -0.1524, -0.2475, -0.0966, -0.1918,  0.2051,  0.0720,  0.1036,\n",
              "                        0.0791, -0.0043,  0.1957, -0.1776,  0.0157, -0.1706,  0.0771, -0.0861],\n",
              "                      [ 0.0766, -0.0521,  0.2073, -0.1482, -0.1491, -0.1491,  0.2249,  0.0833,\n",
              "                        0.2406, -0.2063, -0.2480, -0.1956, -0.1682,  0.1013,  0.0895,  0.2077],\n",
              "                      [-0.1291, -0.1704,  0.1326, -0.1011,  0.1517, -0.0593,  0.1430, -0.1942,\n",
              "                       -0.1262,  0.0762,  0.0529, -0.0637,  0.1490,  0.1700, -0.1813, -0.1335],\n",
              "                      [ 0.2289, -0.0844, -0.0886, -0.2419, -0.1432,  0.0625, -0.0330, -0.1815,\n",
              "                        0.0059, -0.1708, -0.2121, -0.1377, -0.2188, -0.1592,  0.2499,  0.0472],\n",
              "                      [ 0.0770, -0.2332, -0.1642, -0.0832,  0.0391, -0.2200, -0.1077, -0.1497,\n",
              "                        0.0007, -0.0930, -0.0173, -0.1694, -0.1716, -0.1459, -0.0856, -0.1973],\n",
              "                      [ 0.2096, -0.0496,  0.2151,  0.0779, -0.2117,  0.1730, -0.0688, -0.0958,\n",
              "                       -0.2075, -0.2485,  0.0715, -0.0546,  0.0973, -0.2052,  0.1856, -0.1835],\n",
              "                      [-0.0432,  0.0522,  0.1291,  0.2018,  0.2277, -0.1982,  0.0629, -0.1075,\n",
              "                       -0.0274, -0.1871,  0.2277, -0.1835,  0.1336,  0.0879,  0.0812, -0.1352],\n",
              "                      [ 0.2272,  0.0549,  0.0322, -0.2203,  0.1049, -0.0375, -0.1145,  0.2147,\n",
              "                        0.0557, -0.1383, -0.1265, -0.0119,  0.1396, -0.0639, -0.1426, -0.0856],\n",
              "                      [-0.1868,  0.0892,  0.1935, -0.2354,  0.0581,  0.1291,  0.0453, -0.0890,\n",
              "                        0.1305,  0.1314,  0.0935, -0.0439, -0.0662,  0.0267, -0.0442, -0.0745],\n",
              "                      [ 0.1598,  0.2148, -0.0247, -0.0560,  0.0036, -0.0149,  0.0601,  0.0701,\n",
              "                       -0.2271, -0.0923,  0.2105,  0.0974, -0.0124, -0.1507, -0.1530, -0.2239],\n",
              "                      [-0.0815,  0.0844,  0.1594,  0.1154, -0.2210, -0.1503, -0.0395,  0.2418,\n",
              "                        0.0362, -0.0647,  0.1034, -0.0952, -0.1618,  0.1825, -0.1137, -0.0501],\n",
              "                      [-0.2487,  0.1673,  0.1894,  0.0911, -0.1743, -0.2467, -0.2030,  0.1864,\n",
              "                        0.1200,  0.2104,  0.1310,  0.0633, -0.0024, -0.1901, -0.2142, -0.2338],\n",
              "                      [ 0.1023, -0.1227, -0.0503, -0.1439, -0.0456, -0.1760, -0.1634,  0.0829,\n",
              "                       -0.0743,  0.1543, -0.0802, -0.1834, -0.0441, -0.1212, -0.0765, -0.2380],\n",
              "                      [ 0.1399, -0.1741,  0.1257,  0.1134,  0.1786, -0.1918,  0.1798, -0.1182,\n",
              "                        0.0928,  0.2348, -0.0353, -0.0019, -0.0576, -0.2087,  0.1200, -0.2482],\n",
              "                      [ 0.1552,  0.1871,  0.2364, -0.0590, -0.2054,  0.0562,  0.1381, -0.2488,\n",
              "                       -0.0567, -0.1499, -0.0219, -0.1231, -0.1022, -0.0794, -0.2376,  0.2051],\n",
              "                      [ 0.2096, -0.0392, -0.0285, -0.1020, -0.2258, -0.2433,  0.0929, -0.1373,\n",
              "                       -0.1607, -0.0195, -0.0833, -0.0809,  0.0080, -0.0530, -0.0861, -0.1197]])),\n",
              "             ('layer_stack.2.bias',\n",
              "              tensor([-0.2035,  0.2096, -0.1000,  0.0662, -0.0867,  0.0203,  0.2331,  0.1152,\n",
              "                      -0.2166,  0.0992,  0.2373,  0.0658,  0.1676,  0.2465, -0.0383,  0.0519])),\n",
              "             ('layer_stack.4.weight',\n",
              "              tensor([[-0.1738, -0.0515,  0.1851,  0.1282, -0.1582, -0.2005, -0.1708, -0.2467,\n",
              "                       -0.1929, -0.0618,  0.1687,  0.0418, -0.1902, -0.2006,  0.1244, -0.1860]])),\n",
              "             ('layer_stack.4.bias', tensor([-0.0308]))])"
            ]
          },
          "metadata": {},
          "execution_count": 45
        }
      ]
    },
    {
      "cell_type": "markdown",
      "source": [
        "## 3. Setup a binary classification compatible loss function and optimizer to use when training the model built in 2."
      ],
      "metadata": {
        "id": "DSj97RwyVeFE"
      }
    },
    {
      "cell_type": "code",
      "source": [
        "# Setup loss function\n",
        "loss_fn = nn.BCEWithLogitsLoss()\n",
        "# Setup optimizer to optimize model's parameters\n",
        "optimizer = torch.optim.Adam(params=moon_clf.parameters(),lr=0.001)"
      ],
      "metadata": {
        "id": "whSGw5qgVvxU"
      },
      "execution_count": 46,
      "outputs": []
    },
    {
      "cell_type": "markdown",
      "source": [
        "## 4. Create a training and testing loop to fit the model you created in 2 to the data you created in 1.\n",
        "  * Do a forward pass of the model to see what's coming out in the form of logits, prediction probabilities and labels.\n",
        "  * To measure model accuray, you can create your own accuracy function or use the accuracy function in [TorchMetrics](https://torchmetrics.readthedocs.io/en/latest/).\n",
        "  * Train the model for long enough for it to reach over 96% accuracy.\n",
        "  * The training loop should output progress every 10 epochs of the model's training and test set loss and accuracy."
      ],
      "metadata": {
        "id": "nvk4PfNTWUAt"
      }
    },
    {
      "cell_type": "code",
      "source": [
        "# What's coming out of our model?\n",
        "epochs = 1000\n",
        "train_loss_array = []\n",
        "test_loss_array = []\n",
        "epoch_array = []\n",
        "train_accuracy_array = []\n",
        "test_accuracy_array = []\n",
        "\n",
        "def accuracy(y_true, y_pred):\n",
        "    correct = torch.eq(y_true, y_pred).sum().item()\n",
        "    acc  = (correct / len(y_pred)) * 100\n",
        "    return acc\n",
        "# Calculate accuracy (a classification metric)\n",
        "for epoch in range(epochs):\n",
        "    moon_clf.train()\n",
        "    forward_pass = moon_clf(x_train)\n",
        "    y_pred = torch.sigmoid(forward_pass)\n",
        "    train_pred = torch.round(y_pred)\n",
        "    train_accuracy = accuracy(train_pred.squeeze(), y_train)\n",
        "    loss = loss_fn(forward_pass.squeeze(), y_train)\n",
        "    optimizer.zero_grad()\n",
        "    loss.backward()\n",
        "    optimizer.step()\n",
        "\n",
        "    moon_clf.eval()\n",
        "    with torch.inference_mode():\n",
        "        test_logit = moon_clf(x_test)\n",
        "        test_loss = loss_fn(test_logit.squeeze(), y_test)\n",
        "        test_pred = torch.sigmoid(test_logit)\n",
        "        y_pred = torch.round(test_pred)\n",
        "        test_accuracy = accuracy(y_pred.squeeze(), y_test)\n",
        "    if epoch % 10 == 0:\n",
        "        train_loss_array.append(loss)\n",
        "        train_accuracy_array.append(train_accuracy)\n",
        "        test_loss_array.append(test_loss)\n",
        "        test_accuracy_array.append(test_accuracy)\n",
        "        epoch_array.append(epoch)\n",
        "        print(f\"Epoch: {epoch} | Train BCE Loss: {loss} | Train accuracy: {train_accuracy} |Test BCE Loss: {test_loss} | Test_accuracy : {test_accuracy}\")"
      ],
      "metadata": {
        "colab": {
          "base_uri": "https://localhost:8080/"
        },
        "id": "AgnFdlamd2-D",
        "outputId": "be063b7a-8dcb-425a-8c6f-04cc0e68fe7e"
      },
      "execution_count": 47,
      "outputs": [
        {
          "output_type": "stream",
          "name": "stdout",
          "text": [
            "Epoch: 0 | Train BCE Loss: 0.6950451135635376 | Train accuracy: 50.0 |Test BCE Loss: 0.6927909851074219 | Test_accuracy : 50.0\n",
            "Epoch: 10 | Train BCE Loss: 0.6715232133865356 | Train accuracy: 50.0 |Test BCE Loss: 0.6711521148681641 | Test_accuracy : 50.0\n",
            "Epoch: 20 | Train BCE Loss: 0.6506018042564392 | Train accuracy: 77.875 |Test BCE Loss: 0.6523609757423401 | Test_accuracy : 78.5\n",
            "Epoch: 30 | Train BCE Loss: 0.6318516135215759 | Train accuracy: 80.25 |Test BCE Loss: 0.6357710957527161 | Test_accuracy : 77.5\n",
            "Epoch: 40 | Train BCE Loss: 0.6145298480987549 | Train accuracy: 80.125 |Test BCE Loss: 0.6202228665351868 | Test_accuracy : 77.0\n",
            "Epoch: 50 | Train BCE Loss: 0.5952141284942627 | Train accuracy: 80.125 |Test BCE Loss: 0.6024889349937439 | Test_accuracy : 77.5\n",
            "Epoch: 60 | Train BCE Loss: 0.5740005970001221 | Train accuracy: 80.5 |Test BCE Loss: 0.5827224850654602 | Test_accuracy : 76.5\n",
            "Epoch: 70 | Train BCE Loss: 0.5512679815292358 | Train accuracy: 80.75 |Test BCE Loss: 0.5615444779396057 | Test_accuracy : 76.5\n",
            "Epoch: 80 | Train BCE Loss: 0.5276092290878296 | Train accuracy: 81.375 |Test BCE Loss: 0.5393383502960205 | Test_accuracy : 77.0\n",
            "Epoch: 90 | Train BCE Loss: 0.5035012364387512 | Train accuracy: 81.75 |Test BCE Loss: 0.5164225697517395 | Test_accuracy : 77.0\n",
            "Epoch: 100 | Train BCE Loss: 0.4795992374420166 | Train accuracy: 82.25 |Test BCE Loss: 0.4935395121574402 | Test_accuracy : 77.5\n",
            "Epoch: 110 | Train BCE Loss: 0.4566962420940399 | Train accuracy: 82.75 |Test BCE Loss: 0.4716429114341736 | Test_accuracy : 77.5\n",
            "Epoch: 120 | Train BCE Loss: 0.4351622760295868 | Train accuracy: 83.125 |Test BCE Loss: 0.4510553479194641 | Test_accuracy : 78.0\n",
            "Epoch: 130 | Train BCE Loss: 0.4151028096675873 | Train accuracy: 83.375 |Test BCE Loss: 0.4317702054977417 | Test_accuracy : 78.0\n",
            "Epoch: 140 | Train BCE Loss: 0.39668118953704834 | Train accuracy: 83.75 |Test BCE Loss: 0.41375958919525146 | Test_accuracy : 78.5\n",
            "Epoch: 150 | Train BCE Loss: 0.3798920810222626 | Train accuracy: 84.125 |Test BCE Loss: 0.39704054594039917 | Test_accuracy : 79.0\n",
            "Epoch: 160 | Train BCE Loss: 0.3646955192089081 | Train accuracy: 84.375 |Test BCE Loss: 0.3816130459308624 | Test_accuracy : 80.0\n",
            "Epoch: 170 | Train BCE Loss: 0.35099586844444275 | Train accuracy: 84.875 |Test BCE Loss: 0.3673967123031616 | Test_accuracy : 80.0\n",
            "Epoch: 180 | Train BCE Loss: 0.33861035108566284 | Train accuracy: 84.875 |Test BCE Loss: 0.35433274507522583 | Test_accuracy : 81.5\n",
            "Epoch: 190 | Train BCE Loss: 0.3273538649082184 | Train accuracy: 84.875 |Test BCE Loss: 0.34221550822257996 | Test_accuracy : 83.5\n",
            "Epoch: 200 | Train BCE Loss: 0.3170641362667084 | Train accuracy: 85.125 |Test BCE Loss: 0.3309325873851776 | Test_accuracy : 84.0\n",
            "Epoch: 210 | Train BCE Loss: 0.3076910376548767 | Train accuracy: 85.625 |Test BCE Loss: 0.32049039006233215 | Test_accuracy : 84.0\n",
            "Epoch: 220 | Train BCE Loss: 0.2990064322948456 | Train accuracy: 85.75 |Test BCE Loss: 0.3107629120349884 | Test_accuracy : 85.5\n",
            "Epoch: 230 | Train BCE Loss: 0.29079556465148926 | Train accuracy: 86.0 |Test BCE Loss: 0.30170151591300964 | Test_accuracy : 86.5\n",
            "Epoch: 240 | Train BCE Loss: 0.2830570340156555 | Train accuracy: 86.25 |Test BCE Loss: 0.2932383120059967 | Test_accuracy : 87.5\n",
            "Epoch: 250 | Train BCE Loss: 0.2760436236858368 | Train accuracy: 86.5 |Test BCE Loss: 0.28545907139778137 | Test_accuracy : 87.5\n",
            "Epoch: 260 | Train BCE Loss: 0.26963353157043457 | Train accuracy: 86.75 |Test BCE Loss: 0.2782520055770874 | Test_accuracy : 88.0\n",
            "Epoch: 270 | Train BCE Loss: 0.26362234354019165 | Train accuracy: 87.0 |Test BCE Loss: 0.27160853147506714 | Test_accuracy : 89.0\n",
            "Epoch: 280 | Train BCE Loss: 0.2579725682735443 | Train accuracy: 87.25 |Test BCE Loss: 0.26545265316963196 | Test_accuracy : 89.0\n",
            "Epoch: 290 | Train BCE Loss: 0.25261521339416504 | Train accuracy: 87.5 |Test BCE Loss: 0.25969961285591125 | Test_accuracy : 89.5\n",
            "Epoch: 300 | Train BCE Loss: 0.247532457113266 | Train accuracy: 87.75 |Test BCE Loss: 0.254289448261261 | Test_accuracy : 89.5\n",
            "Epoch: 310 | Train BCE Loss: 0.2427118867635727 | Train accuracy: 88.125 |Test BCE Loss: 0.24915912747383118 | Test_accuracy : 89.5\n",
            "Epoch: 320 | Train BCE Loss: 0.23813143372535706 | Train accuracy: 88.375 |Test BCE Loss: 0.24433988332748413 | Test_accuracy : 90.0\n",
            "Epoch: 330 | Train BCE Loss: 0.23378612101078033 | Train accuracy: 88.625 |Test BCE Loss: 0.23980647325515747 | Test_accuracy : 90.0\n",
            "Epoch: 340 | Train BCE Loss: 0.2296570986509323 | Train accuracy: 88.875 |Test BCE Loss: 0.23555931448936462 | Test_accuracy : 90.0\n",
            "Epoch: 350 | Train BCE Loss: 0.22574372589588165 | Train accuracy: 89.0 |Test BCE Loss: 0.23154819011688232 | Test_accuracy : 90.5\n",
            "Epoch: 360 | Train BCE Loss: 0.22202786803245544 | Train accuracy: 89.125 |Test BCE Loss: 0.2278040647506714 | Test_accuracy : 90.5\n",
            "Epoch: 370 | Train BCE Loss: 0.21848030388355255 | Train accuracy: 89.5 |Test BCE Loss: 0.22422808408737183 | Test_accuracy : 90.5\n",
            "Epoch: 380 | Train BCE Loss: 0.21505893766880035 | Train accuracy: 89.625 |Test BCE Loss: 0.2208254486322403 | Test_accuracy : 90.5\n",
            "Epoch: 390 | Train BCE Loss: 0.21174217760562897 | Train accuracy: 89.875 |Test BCE Loss: 0.2175491750240326 | Test_accuracy : 90.5\n",
            "Epoch: 400 | Train BCE Loss: 0.20851129293441772 | Train accuracy: 90.125 |Test BCE Loss: 0.2144032120704651 | Test_accuracy : 90.5\n",
            "Epoch: 410 | Train BCE Loss: 0.20535129308700562 | Train accuracy: 90.375 |Test BCE Loss: 0.2113293707370758 | Test_accuracy : 90.5\n",
            "Epoch: 420 | Train BCE Loss: 0.20225688815116882 | Train accuracy: 90.5 |Test BCE Loss: 0.2082734853029251 | Test_accuracy : 90.5\n",
            "Epoch: 430 | Train BCE Loss: 0.19919101893901825 | Train accuracy: 90.625 |Test BCE Loss: 0.20530666410923004 | Test_accuracy : 91.0\n",
            "Epoch: 440 | Train BCE Loss: 0.19613566994667053 | Train accuracy: 90.875 |Test BCE Loss: 0.20236778259277344 | Test_accuracy : 91.0\n",
            "Epoch: 450 | Train BCE Loss: 0.19308358430862427 | Train accuracy: 91.125 |Test BCE Loss: 0.1994229555130005 | Test_accuracy : 91.0\n",
            "Epoch: 460 | Train BCE Loss: 0.19002637267112732 | Train accuracy: 91.25 |Test BCE Loss: 0.1964789181947708 | Test_accuracy : 91.0\n",
            "Epoch: 470 | Train BCE Loss: 0.18695782124996185 | Train accuracy: 91.375 |Test BCE Loss: 0.19350585341453552 | Test_accuracy : 91.0\n",
            "Epoch: 480 | Train BCE Loss: 0.1838780641555786 | Train accuracy: 91.5 |Test BCE Loss: 0.19047516584396362 | Test_accuracy : 91.5\n",
            "Epoch: 490 | Train BCE Loss: 0.18078117072582245 | Train accuracy: 91.625 |Test BCE Loss: 0.1874314248561859 | Test_accuracy : 91.5\n",
            "Epoch: 500 | Train BCE Loss: 0.17766040563583374 | Train accuracy: 92.0 |Test BCE Loss: 0.18433494865894318 | Test_accuracy : 91.5\n",
            "Epoch: 510 | Train BCE Loss: 0.1745101362466812 | Train accuracy: 92.25 |Test BCE Loss: 0.18120481073856354 | Test_accuracy : 91.5\n",
            "Epoch: 520 | Train BCE Loss: 0.17132766544818878 | Train accuracy: 92.375 |Test BCE Loss: 0.17801129817962646 | Test_accuracy : 91.5\n",
            "Epoch: 530 | Train BCE Loss: 0.16811327636241913 | Train accuracy: 92.375 |Test BCE Loss: 0.17478860914707184 | Test_accuracy : 92.5\n",
            "Epoch: 540 | Train BCE Loss: 0.16486556828022003 | Train accuracy: 92.375 |Test BCE Loss: 0.17150790989398956 | Test_accuracy : 93.5\n",
            "Epoch: 550 | Train BCE Loss: 0.16158121824264526 | Train accuracy: 92.5 |Test BCE Loss: 0.1681930422782898 | Test_accuracy : 93.5\n",
            "Epoch: 560 | Train BCE Loss: 0.15825903415679932 | Train accuracy: 92.75 |Test BCE Loss: 0.16482357680797577 | Test_accuracy : 93.5\n",
            "Epoch: 570 | Train BCE Loss: 0.1548977792263031 | Train accuracy: 93.0 |Test BCE Loss: 0.16140812635421753 | Test_accuracy : 93.5\n",
            "Epoch: 580 | Train BCE Loss: 0.15149900317192078 | Train accuracy: 93.25 |Test BCE Loss: 0.1579248309135437 | Test_accuracy : 93.5\n",
            "Epoch: 590 | Train BCE Loss: 0.14806132018566132 | Train accuracy: 93.375 |Test BCE Loss: 0.1543976217508316 | Test_accuracy : 93.5\n",
            "Epoch: 600 | Train BCE Loss: 0.14458654820919037 | Train accuracy: 93.625 |Test BCE Loss: 0.15080930292606354 | Test_accuracy : 93.5\n",
            "Epoch: 610 | Train BCE Loss: 0.141075000166893 | Train accuracy: 93.75 |Test BCE Loss: 0.1471836268901825 | Test_accuracy : 94.0\n",
            "Epoch: 620 | Train BCE Loss: 0.13752853870391846 | Train accuracy: 93.875 |Test BCE Loss: 0.1435111165046692 | Test_accuracy : 94.5\n",
            "Epoch: 630 | Train BCE Loss: 0.1339488923549652 | Train accuracy: 94.125 |Test BCE Loss: 0.1397983580827713 | Test_accuracy : 94.5\n",
            "Epoch: 640 | Train BCE Loss: 0.13033954799175262 | Train accuracy: 94.25 |Test BCE Loss: 0.13603366911411285 | Test_accuracy : 95.0\n",
            "Epoch: 650 | Train BCE Loss: 0.12670506536960602 | Train accuracy: 94.5 |Test BCE Loss: 0.13223905861377716 | Test_accuracy : 95.0\n",
            "Epoch: 660 | Train BCE Loss: 0.1230517029762268 | Train accuracy: 94.75 |Test BCE Loss: 0.12840335071086884 | Test_accuracy : 95.0\n",
            "Epoch: 670 | Train BCE Loss: 0.11938350647687912 | Train accuracy: 95.25 |Test BCE Loss: 0.12454524636268616 | Test_accuracy : 95.0\n",
            "Epoch: 680 | Train BCE Loss: 0.11570534855127335 | Train accuracy: 95.5 |Test BCE Loss: 0.12066857516765594 | Test_accuracy : 95.0\n",
            "Epoch: 690 | Train BCE Loss: 0.1120201125741005 | Train accuracy: 95.75 |Test BCE Loss: 0.11679384857416153 | Test_accuracy : 95.0\n",
            "Epoch: 700 | Train BCE Loss: 0.10833375155925751 | Train accuracy: 96.0 |Test BCE Loss: 0.1129174679517746 | Test_accuracy : 95.0\n",
            "Epoch: 710 | Train BCE Loss: 0.10465756058692932 | Train accuracy: 96.125 |Test BCE Loss: 0.1090499684214592 | Test_accuracy : 96.0\n",
            "Epoch: 720 | Train BCE Loss: 0.10099907219409943 | Train accuracy: 96.375 |Test BCE Loss: 0.10519218444824219 | Test_accuracy : 96.0\n",
            "Epoch: 730 | Train BCE Loss: 0.09736630320549011 | Train accuracy: 96.625 |Test BCE Loss: 0.10136665403842926 | Test_accuracy : 96.5\n",
            "Epoch: 740 | Train BCE Loss: 0.09376166015863419 | Train accuracy: 96.875 |Test BCE Loss: 0.0975838154554367 | Test_accuracy : 97.0\n",
            "Epoch: 750 | Train BCE Loss: 0.09019885212182999 | Train accuracy: 97.125 |Test BCE Loss: 0.09383983910083771 | Test_accuracy : 97.0\n",
            "Epoch: 760 | Train BCE Loss: 0.08668732643127441 | Train accuracy: 97.375 |Test BCE Loss: 0.09013564139604568 | Test_accuracy : 97.0\n",
            "Epoch: 770 | Train BCE Loss: 0.08323328197002411 | Train accuracy: 97.625 |Test BCE Loss: 0.08650003373622894 | Test_accuracy : 97.5\n",
            "Epoch: 780 | Train BCE Loss: 0.07986873388290405 | Train accuracy: 97.75 |Test BCE Loss: 0.0829300582408905 | Test_accuracy : 97.5\n",
            "Epoch: 790 | Train BCE Loss: 0.07659442722797394 | Train accuracy: 98.0 |Test BCE Loss: 0.07943881303071976 | Test_accuracy : 98.0\n",
            "Epoch: 800 | Train BCE Loss: 0.07339568436145782 | Train accuracy: 98.25 |Test BCE Loss: 0.07604170590639114 | Test_accuracy : 98.0\n",
            "Epoch: 810 | Train BCE Loss: 0.07027904689311981 | Train accuracy: 98.5 |Test BCE Loss: 0.07275191694498062 | Test_accuracy : 98.0\n",
            "Epoch: 820 | Train BCE Loss: 0.06725217401981354 | Train accuracy: 98.5 |Test BCE Loss: 0.06956537812948227 | Test_accuracy : 98.5\n",
            "Epoch: 830 | Train BCE Loss: 0.06431877613067627 | Train accuracy: 98.625 |Test BCE Loss: 0.06646823137998581 | Test_accuracy : 98.5\n",
            "Epoch: 840 | Train BCE Loss: 0.06148252636194229 | Train accuracy: 98.875 |Test BCE Loss: 0.06348676979541779 | Test_accuracy : 98.5\n",
            "Epoch: 850 | Train BCE Loss: 0.05874529853463173 | Train accuracy: 99.0 |Test BCE Loss: 0.06060492619872093 | Test_accuracy : 98.5\n",
            "Epoch: 860 | Train BCE Loss: 0.05610856041312218 | Train accuracy: 99.125 |Test BCE Loss: 0.05784201622009277 | Test_accuracy : 99.0\n",
            "Epoch: 870 | Train BCE Loss: 0.0535733737051487 | Train accuracy: 99.25 |Test BCE Loss: 0.05519148334860802 | Test_accuracy : 99.0\n",
            "Epoch: 880 | Train BCE Loss: 0.0511416532099247 | Train accuracy: 99.25 |Test BCE Loss: 0.05265026167035103 | Test_accuracy : 99.5\n",
            "Epoch: 890 | Train BCE Loss: 0.048812080174684525 | Train accuracy: 99.375 |Test BCE Loss: 0.05020856857299805 | Test_accuracy : 99.5\n",
            "Epoch: 900 | Train BCE Loss: 0.046584174036979675 | Train accuracy: 99.375 |Test BCE Loss: 0.04788616672158241 | Test_accuracy : 100.0\n",
            "Epoch: 910 | Train BCE Loss: 0.04445599392056465 | Train accuracy: 99.5 |Test BCE Loss: 0.04566524177789688 | Test_accuracy : 100.0\n",
            "Epoch: 920 | Train BCE Loss: 0.04242563620209694 | Train accuracy: 99.625 |Test BCE Loss: 0.04355484992265701 | Test_accuracy : 100.0\n",
            "Epoch: 930 | Train BCE Loss: 0.0404922254383564 | Train accuracy: 99.75 |Test BCE Loss: 0.04154301807284355 | Test_accuracy : 100.0\n",
            "Epoch: 940 | Train BCE Loss: 0.03865305334329605 | Train accuracy: 99.875 |Test BCE Loss: 0.03964507207274437 | Test_accuracy : 100.0\n",
            "Epoch: 950 | Train BCE Loss: 0.03690505400300026 | Train accuracy: 100.0 |Test BCE Loss: 0.03783348575234413 | Test_accuracy : 100.0\n",
            "Epoch: 960 | Train BCE Loss: 0.03524523600935936 | Train accuracy: 100.0 |Test BCE Loss: 0.03611490875482559 | Test_accuracy : 100.0\n",
            "Epoch: 970 | Train BCE Loss: 0.033669646829366684 | Train accuracy: 100.0 |Test BCE Loss: 0.03448640555143356 | Test_accuracy : 100.0\n",
            "Epoch: 980 | Train BCE Loss: 0.032174691557884216 | Train accuracy: 100.0 |Test BCE Loss: 0.032942336052656174 | Test_accuracy : 100.0\n",
            "Epoch: 990 | Train BCE Loss: 0.03075779229402542 | Train accuracy: 100.0 |Test BCE Loss: 0.03147478774189949 | Test_accuracy : 100.0\n"
          ]
        }
      ]
    },
    {
      "cell_type": "code",
      "source": [
        "# Let's calculuate the accuracy using accuracy from TorchMetrics\n",
        "!pip -q install torchmetrics # Colab doesn't come with torchmetrics\n",
        "from torchmetrics import Accuracy\n",
        "\n",
        "## TODO: Uncomment this code to use the Accuracy function\n",
        "# acc_fn = Accuracy(task=\"multiclass\", num_classes=2).to(device) # send accuracy function to device\n",
        "# acc_fn"
      ],
      "metadata": {
        "id": "rUSDNHB4euoJ"
      },
      "execution_count": null,
      "outputs": []
    },
    {
      "cell_type": "code",
      "source": [
        "## TODO: Uncomment this to set the seed\n",
        "# torch.manual_seed(RANDOM_SEED)\n",
        "\n",
        "# Setup epochs\n",
        "\n",
        "\n",
        "# Send data to the device\n",
        "\n",
        "\n",
        "# Loop through the data\n",
        "# for epoch in range(epochs):\n",
        "  ### Training\n",
        "\n",
        "\n",
        "  # 1. Forward pass (logits output)\n",
        "\n",
        "  # Turn logits into prediction probabilities\n",
        "\n",
        "\n",
        "  # Turn prediction probabilities into prediction labels\n",
        "\n",
        "\n",
        "  # 2. Calculaute the loss\n",
        "  # loss = loss_fn(y_logits, y_train) # loss = compare model raw outputs to desired model outputs\n",
        "\n",
        "  # Calculate the accuracy\n",
        "  # acc = acc_fn(y_pred, y_train.int()) # the accuracy function needs to compare pred labels (not logits) with actual labels\n",
        "\n",
        "  # 3. Zero the gradients\n",
        "\n",
        "\n",
        "  # 4. Loss backward (perform backpropagation) - https://brilliant.org/wiki/backpropagation/#:~:text=Backpropagation%2C%20short%20for%20%22backward%20propagation,to%20the%20neural%20network's%20weights.\n",
        "\n",
        "  # 5. Step the optimizer (gradient descent) - https://towardsdatascience.com/gradient-descent-algorithm-a-deep-dive-cf04e8115f21#:~:text=Gradient%20descent%20(GD)%20is%20an,e.g.%20in%20a%20linear%20regression)\n",
        "\n",
        "\n",
        "  ### Testing\n",
        "  # model_0.eval()\n",
        "  # with torch.inference_mode():\n",
        "    # 1. Forward pass (to get the logits)\n",
        "\n",
        "    # Turn the test logits into prediction labels\n",
        "\n",
        "\n",
        "    # 2. Caculate the test loss/acc\n",
        "\n",
        "\n",
        "  # Print out what's happening every 100 epochs\n",
        "  # if epoch % 100 == 0:\n"
      ],
      "metadata": {
        "id": "SHBY3h7XXnxt"
      },
      "execution_count": null,
      "outputs": []
    },
    {
      "cell_type": "markdown",
      "source": [
        "## 5. Make predictions with your trained model and plot them using the `plot_decision_boundary()` function created in this notebook."
      ],
      "metadata": {
        "id": "8Nwihtomj9JO"
      }
    },
    {
      "cell_type": "code",
      "source": [
        "# Plot the model predictions\n",
        "import numpy as np\n",
        "\n",
        "def plot_decision_boundary(model, X, y):\n",
        "\n",
        "    # Put everything to CPU (works better with NumPy + Matplotlib)\n",
        "    model.to(\"cpu\")\n",
        "    X, y = X.to(\"cpu\"), y.to(\"cpu\")\n",
        "\n",
        "    # Source - https://madewithml.com/courses/foundations/neural-networks/\n",
        "    # (with modifications)\n",
        "    x_min, x_max = X[:, 0].min() - 0.1, X[:, 0].max() + 0.1\n",
        "    y_min, y_max = X[:, 1].min() - 0.1, X[:, 1].max() + 0.1\n",
        "    xx, yy = np.meshgrid(np.linspace(x_min, x_max, 101),\n",
        "                         np.linspace(y_min, y_max, 101))\n",
        "\n",
        "    # Make features\n",
        "    X_to_pred_on = torch.from_numpy(np.column_stack((xx.ravel(), yy.ravel()))).float()\n",
        "\n",
        "    # Make predictions\n",
        "    model.eval()\n",
        "    with torch.inference_mode():\n",
        "        y_logits = model(X_to_pred_on)\n",
        "\n",
        "    # Test for multi-class or binary and adjust logits to prediction labels\n",
        "    if len(torch.unique(y)) > 2:\n",
        "        y_pred = torch.softmax(y_logits, dim=1).argmax(dim=1) # mutli-class\n",
        "    else:\n",
        "        y_pred = torch.round(torch.sigmoid(y_logits)) # binary\n",
        "\n",
        "    # Reshape preds and plot\n",
        "    y_pred = y_pred.reshape(xx.shape).detach().numpy()\n",
        "    plt.contourf(xx, yy, y_pred, cmap=plt.cm.RdYlBu, alpha=0.7)\n",
        "    plt.scatter(X[:, 0], X[:, 1], c=y, s=40, cmap=plt.cm.RdYlBu)\n",
        "    plt.xlim(xx.min(), xx.max())\n",
        "    plt.ylim(yy.min(), yy.max())"
      ],
      "metadata": {
        "id": "0YRzatb8a1P2"
      },
      "execution_count": null,
      "outputs": []
    },
    {
      "cell_type": "code",
      "source": [
        "# Plot decision boundaries for training and test sets\n"
      ],
      "metadata": {
        "id": "PMrcpyirig1d"
      },
      "execution_count": null,
      "outputs": []
    },
    {
      "cell_type": "markdown",
      "source": [
        "## 6. Replicate the Tanh (hyperbolic tangent) activation function in pure PyTorch.\n",
        "  * Feel free to reference the [ML cheatsheet website](https://ml-cheatsheet.readthedocs.io/en/latest/activation_functions.html#tanh) for the formula."
      ],
      "metadata": {
        "id": "EtMYBvtciiAU"
      }
    },
    {
      "cell_type": "code",
      "source": [
        "# Create a straight line tensor\n"
      ],
      "metadata": {
        "id": "BlXaWC5TkEUE"
      },
      "execution_count": null,
      "outputs": []
    },
    {
      "cell_type": "code",
      "source": [
        "# Test torch.tanh() on the tensor and plot it\n"
      ],
      "metadata": {
        "id": "vZPCcQmIkZjO"
      },
      "execution_count": null,
      "outputs": []
    },
    {
      "cell_type": "code",
      "source": [
        "# Replicate torch.tanh() and plot it\n"
      ],
      "metadata": {
        "id": "J-ne__Kjkdc1"
      },
      "execution_count": null,
      "outputs": []
    },
    {
      "cell_type": "markdown",
      "source": [
        "## 7. Create a multi-class dataset using the [spirals data creation function from CS231n](https://cs231n.github.io/neural-networks-case-study/) (see below for the code).\n",
        "  * Split the data into training and test sets (80% train, 20% test) as well as turn it into PyTorch tensors.\n",
        "  * Construct a model capable of fitting the data (you may need a combination of linear and non-linear layers).\n",
        "  * Build a loss function and optimizer capable of handling multi-class data (optional extension: use the Adam optimizer instead of SGD, you may have to experiment with different values of the learning rate to get it working).\n",
        "  * Make a training and testing loop for the multi-class data and train a model on it to reach over 95% testing accuracy (you can use any accuracy measuring function here that you like) - 1000 epochs should be plenty.\n",
        "  * Plot the decision boundaries on the spirals dataset from your model predictions, the `plot_decision_boundary()` function should work for this dataset too."
      ],
      "metadata": {
        "id": "Lbt1bNcWk5G9"
      }
    },
    {
      "cell_type": "code",
      "source": [
        "# Code for creating a spiral dataset from CS231n\n",
        "import numpy as np\n",
        "import matplotlib.pyplot as plt\n",
        "RANDOM_SEED = 42\n",
        "np.random.seed(RANDOM_SEED)\n",
        "N = 100 # number of points per class\n",
        "D = 2 # dimensionality\n",
        "K = 3 # number of classes\n",
        "X = np.zeros((N*K,D)) # data matrix (each row = single example)\n",
        "y = np.zeros(N*K, dtype='uint8') # class labels\n",
        "for j in range(K):\n",
        "  ix = range(N*j,N*(j+1))\n",
        "  r = np.linspace(0.0,1,N) # radius\n",
        "  t = np.linspace(j*4,(j+1)*4,N) + np.random.randn(N)*0.2 # theta\n",
        "  X[ix] = np.c_[r*np.sin(t), r*np.cos(t)]\n",
        "  y[ix] = j\n",
        "# lets visualize the data\n",
        "plt.scatter(X[:, 0], X[:, 1], c=y, s=40, cmap=plt.cm.RdYlBu)\n",
        "plt.show()"
      ],
      "metadata": {
        "colab": {
          "base_uri": "https://localhost:8080/",
          "height": 265
        },
        "id": "tU-UNZsKlJls",
        "outputId": "8b7b745a-070d-4ecb-c639-c4ee4d8eae06"
      },
      "execution_count": null,
      "outputs": [
        {
          "output_type": "display_data",
          "data": {
            "image/png": "[encoded data removed]",
            "text/plain": [
              "<Figure size 432x288 with 1 Axes>"
            ]
          },
          "metadata": {
            "needs_background": "light"
          }
        }
      ]
    },
    {
      "cell_type": "code",
      "source": [
        "# Turn data into tensors\n",
        "import torch\n",
        "X = torch.from_numpy(X).type(torch.float) # features as float32\n",
        "y = torch.from_numpy(y).type(torch.LongTensor) # labels need to be of type long\n",
        "\n",
        "# Create train and test splits\n",
        "from sklearn.model_selection import train_test_split\n"
      ],
      "metadata": {
        "id": "OWVrmkEyl0VP"
      },
      "execution_count": null,
      "outputs": []
    },
    {
      "cell_type": "code",
      "source": [
        "# Let's calculuate the accuracy for when we fit our model\n",
        "!pip -q install torchmetrics # colab doesn't come with torchmetrics\n",
        "from torchmetrics import Accuracy\n",
        "\n",
        "## TODO: uncomment the two lines below to send the accuracy function to the device\n",
        "# acc_fn = Accuracy(task=\"multiclass\", num_classes=4).to(device)\n",
        "# acc_fn"
      ],
      "metadata": {
        "id": "a-v-7f0op0tG"
      },
      "execution_count": null,
      "outputs": []
    },
    {
      "cell_type": "code",
      "source": [
        "# Prepare device agnostic code\n",
        "# device = \"cuda\" if torch.cuda.is_available() else \"cpu\"\n",
        "\n",
        "# Create model by subclassing nn.Module\n",
        "\n",
        "\n",
        "\n",
        "# Instantiate model and send it to device\n"
      ],
      "metadata": {
        "id": "DB3u3ldumapf"
      },
      "execution_count": null,
      "outputs": []
    },
    {
      "cell_type": "code",
      "source": [
        "# Setup data to be device agnostic\n",
        "\n",
        "\n",
        "# Print out first 10 untrained model outputs (forward pass)\n",
        "print(\"Logits:\")\n",
        "## Your code here ##\n",
        "\n",
        "print(\"Pred probs:\")\n",
        "## Your code here ##\n",
        "\n",
        "print(\"Pred labels:\")\n",
        "## Your code here ##"
      ],
      "metadata": {
        "colab": {
          "base_uri": "https://localhost:8080/"
        },
        "id": "QE7XWSSunMTS",
        "outputId": "00b31909-87c9-41e3-9dbb-fb4c4bd3aabd"
      },
      "execution_count": null,
      "outputs": [
        {
          "output_type": "stream",
          "name": "stdout",
          "text": [
            "Logits:\n",
            "Pred probs:\n",
            "Pred labels:\n"
          ]
        }
      ]
    },
    {
      "cell_type": "code",
      "source": [
        "# Setup loss function and optimizer\n",
        "# loss_fn =\n",
        "# optimizer ="
      ],
      "metadata": {
        "id": "54EqLRKLo0AW"
      },
      "execution_count": null,
      "outputs": []
    },
    {
      "cell_type": "code",
      "source": [
        "# Build a training loop for the model\n",
        "\n",
        "# Loop over data\n",
        "\n",
        "\n",
        "  ## Training\n",
        "\n",
        "  # 1. Forward pass\n",
        "\n",
        "\n",
        "  # 2. Calculate the loss\n",
        "\n",
        "\n",
        "  # 3. Optimizer zero grad\n",
        "\n",
        "\n",
        "  # 4. Loss backward\n",
        "\n",
        "\n",
        "  # 5. Optimizer step\n",
        "\n",
        "\n",
        "  ## Testing\n",
        "\n",
        "\n",
        "    # 1. Forward pass\n",
        "\n",
        "    # 2. Caculate loss and acc\n",
        "\n",
        "  # Print out what's happening every 100 epochs\n"
      ],
      "metadata": {
        "id": "vIlExkUHnmxi"
      },
      "execution_count": null,
      "outputs": []
    },
    {
      "cell_type": "code",
      "source": [
        "# Plot decision boundaries for training and test sets\n"
      ],
      "metadata": {
        "id": "JrwVRbaE0keT"
      },
      "execution_count": null,
      "outputs": []
    }
  ]
}