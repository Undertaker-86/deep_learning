{
  "nbformat": 4,
  "nbformat_minor": 0,
  "metadata": {
    "colab": {
      "provenance": [],
      "authorship_tag": "ABX9TyP/f1NDeTY0a0TqWesp3jOJ",
      "include_colab_link": true
    },
    "kernelspec": {
      "name": "python3",
      "display_name": "Python 3"
    },
    "language_info": {
      "name": "python"
    }
  },
  "cells": [
    {
      "cell_type": "markdown",
      "metadata": {
        "id": "view-in-github",
        "colab_type": "text"
      },
      "source": [
        "<a href=\"https://colab.research.google.com/github/Undertaker-86/deep_learning/blob/main/01_workflow.ipynb\" target=\"_parent\"><img src=\"https://colab.research.google.com/assets/colab-badge.svg\" alt=\"Open In Colab\"/></a>"
      ]
    },
    {
      "cell_type": "code",
      "execution_count": 1,
      "metadata": {
        "id": "fM_FZSTJGYL1"
      },
      "outputs": [],
      "source": [
        "import torch\n",
        "from torch import nn\n",
        "import matplotlib.pyplot as plt"
      ]
    },
    {
      "cell_type": "code",
      "source": [
        "weight = 7\n",
        "bias = 5\n",
        "\n",
        "start = 0\n",
        "step = 0.02\n",
        "end = 1\n",
        "X = torch.arange(start, end, step).unsqueeze(1)\n",
        "y = weight * X + bias\n",
        "display(y[:10])\n",
        "display(X[:10])\n",
        "display(len(X), len(y))\n",
        "display(X.ndim)"
      ],
      "metadata": {
        "colab": {
          "base_uri": "https://localhost:8080/",
          "height": 416
        },
        "id": "-Ci7NfAEACii",
        "outputId": "cc7bf9a5-08a4-469f-9874-e73b627e08ea"
      },
      "execution_count": 7,
      "outputs": [
        {
          "output_type": "display_data",
          "data": {
            "text/plain": [
              "tensor([[5.0000],\n",
              "        [5.1400],\n",
              "        [5.2800],\n",
              "        [5.4200],\n",
              "        [5.5600],\n",
              "        [5.7000],\n",
              "        [5.8400],\n",
              "        [5.9800],\n",
              "        [6.1200],\n",
              "        [6.2600]])"
            ]
          },
          "metadata": {}
        },
        {
          "output_type": "display_data",
          "data": {
            "text/plain": [
              "tensor([[0.0000],\n",
              "        [0.0200],\n",
              "        [0.0400],\n",
              "        [0.0600],\n",
              "        [0.0800],\n",
              "        [0.1000],\n",
              "        [0.1200],\n",
              "        [0.1400],\n",
              "        [0.1600],\n",
              "        [0.1800]])"
            ]
          },
          "metadata": {}
        },
        {
          "output_type": "display_data",
          "data": {
            "text/plain": [
              "50"
            ]
          },
          "metadata": {}
        },
        {
          "output_type": "display_data",
          "data": {
            "text/plain": [
              "50"
            ]
          },
          "metadata": {}
        },
        {
          "output_type": "display_data",
          "data": {
            "text/plain": [
              "2"
            ]
          },
          "metadata": {}
        }
      ]
    },
    {
      "cell_type": "code",
      "source": [
        "sX.head()top"
      ],
      "metadata": {
        "id": "d3lEWhxxBdJz"
      },
      "execution_count": null,
      "outputs": []
    }
  ]
}